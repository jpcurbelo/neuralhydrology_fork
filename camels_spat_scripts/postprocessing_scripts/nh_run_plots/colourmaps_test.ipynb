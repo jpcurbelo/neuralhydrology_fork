{
 "cells": [
  {
   "cell_type": "code",
   "execution_count": 1,
   "metadata": {},
   "outputs": [
    {
     "data": {
      "text/plain": [
       "(-0.5, 99.5, 0.5, -0.5)"
      ]
     },
     "execution_count": 1,
     "metadata": {},
     "output_type": "execute_result"
    },
    {
     "data": {
      "image/png": "[encoded data removed]",
      "text/plain": [
       "<Figure size 640x480 with 1 Axes>"
      ]
     },
     "metadata": {},
     "output_type": "display_data"
    }
   ],
   "source": [
    "from cmcrameri import cm\n",
    "import matplotlib.pyplot as plt\n",
    "import numpy as np\n",
    "x = np.linspace(0, 100, 100)[None, :]\n",
    "plt.imshow(x, aspect='auto', cmap=cm.batlow) # or any other colourmap\n",
    "plt.axis('off')"
   ]
  },
  {
   "cell_type": "code",
   "execution_count": 3,
   "metadata": {},
   "outputs": [
    {
     "ename": "ModuleNotFoundError",
     "evalue": "No module named 'ScientificColourMaps8'",
     "output_type": "error",
     "traceback": [
      "\u001b[0;31m---------------------------------------------------------------------------\u001b[0m",
      "\u001b[0;31mModuleNotFoundError\u001b[0m                       Traceback (most recent call last)",
      "Cell \u001b[0;32mIn[3], line 1\u001b[0m\n\u001b[0;32m----> 1\u001b[0m \u001b[38;5;28;01mimport\u001b[39;00m \u001b[38;5;21;01mScientificColourMaps8\u001b[39;00m \u001b[38;5;28;01mas\u001b[39;00m \u001b[38;5;21;01mSCM8\u001b[39;00m\n\u001b[1;32m      4\u001b[0m plt\u001b[38;5;241m.\u001b[39mimshow(some_data, cmap\u001b[38;5;241m=\u001b[39mSCM8\u001b[38;5;241m.\u001b[39mberlin)\n\u001b[1;32m      5\u001b[0m  \u001b[38;5;66;03m# Linear palette\u001b[39;00m\n",
      "\u001b[0;31mModuleNotFoundError\u001b[0m: No module named 'ScientificColourMaps8'"
     ]
    }
   ],
   "source": [
    "# import ScientificColourMaps8 as SCM8\n",
    "\n",
    "\n",
    "# plt.imshow(some_data, cmap=SCM8.berlin)\n",
    "#  # Linear palette\n",
    "# plt.imshow(some_data, cmap=SCM8.berlin_r)\n",
    "#  # Reversed, linear\n",
    "# plt.imshow(some_data, cmap=SCM8.berlin25_r) # Reversed, 25 steps, discrete"
   ]
  }
 ],
 "metadata": {
  "kernelspec": {
   "display_name": "venv-nh",
   "language": "python",
   "name": "python3"
  },
  "language_info": {
   "codemirror_mode": {
    "name": "ipython",
    "version": 3
   },
   "file_extension": ".py",
   "mimetype": "text/x-python",
   "name": "python",
   "nbconvert_exporter": "python",
   "pygments_lexer": "ipython3",
   "version": "3.8.10"
  }
 },
 "nbformat": 4,
 "nbformat_minor": 2
}
