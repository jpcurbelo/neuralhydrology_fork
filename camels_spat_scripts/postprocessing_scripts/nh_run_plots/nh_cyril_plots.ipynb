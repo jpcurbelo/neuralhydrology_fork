{
 "cells": [
  {
   "cell_type": "markdown",
   "metadata": {},
   "source": [
    "# Imports"
   ]
  },
  {
   "cell_type": "code",
   "execution_count": 7,
   "metadata": {},
   "outputs": [],
   "source": [
    "import os\n",
    "from pathlib import Path\n",
    "import pandas as pd\n",
    "import geopandas as gpd\n",
    "from fiona.crs import from_epsg\n",
    "import matplotlib.pyplot as plt\n",
    "import matplotlib.colors as mcolors\n",
    "import numpy as np\n",
    "from mpl_toolkits.axes_grid1 import make_axes_locatable\n",
    "from cmcrameri import cm\n",
    "\n",
    "camels_spat_dir = Path('/gladwell/hydrology/SUMMA/summa-ml-models/CAMELS_spat_NH')\n",
    "shapes_dir = camels_spat_dir / 'merged_lumped_shapes'\n",
    "file_dir = Path('runs_928_cyril_camelsspat')"
   ]
  },
  {
   "cell_type": "markdown",
   "metadata": {},
   "source": [
    "# Load Data"
   ]
  },
  {
   "cell_type": "code",
   "execution_count": 2,
   "metadata": {},
   "outputs": [],
   "source": [
    "# Load the results\n",
    "result_df = pd.read_csv(file_dir / 'test_ensemble_metrics.csv')\n",
    "\n",
    "# Ensure negative NSE values are set to zero\n",
    "result_df['NSE'] = result_df['NSE'].apply(lambda x: max(x, 0))\n",
    "\n",
    "# List of basins\n",
    "basins = result_df['basin'].unique()"
   ]
  },
  {
   "cell_type": "markdown",
   "metadata": {},
   "source": [
    "# Loading and reprojecting basins and states"
   ]
  },
  {
   "cell_type": "code",
   "execution_count": 3,
   "metadata": {},
   "outputs": [
    {
     "data": {
      "text/plain": [
       "Country\n",
       "USA    474\n",
       "CAN    454\n",
       "Name: count, dtype: int64"
      ]
     },
     "execution_count": 3,
     "metadata": {},
     "output_type": "execute_result"
    }
   ],
   "source": [
    "## Read the basin shapefile\n",
    "gdf_basins = gpd.read_file(shapes_dir / 'merged_lumped_outlines.shp')\n",
    "# Subset the basins to only include the ones that are usable\n",
    "gdf_basins = gdf_basins[gdf_basins['Station_id'].isin(basins)]\n",
    "\n",
    "gdf_borders = gpd.read_file(camels_spat_dir / 'NA_PoliticalDivision' / 'boundaries_p_2021_v3.shp')\n",
    "states = gpd.read_file(shapes_dir / 'USA_Canada_ShapefileMerge.shp')\n",
    "\n",
    "gdf_basins.value_counts('Country')"
   ]
  },
  {
   "cell_type": "code",
   "execution_count": 4,
   "metadata": {},
   "outputs": [],
   "source": [
    "# Ensure the CRS for gdf_basins\n",
    "gdf_basins.crs = 'EPSG:4326'\n",
    "\n",
    "# Set a common CRS for both GeoDataFrames\n",
    "common_crs = 'ESRI:102008'\n",
    "gdf_basins = gdf_basins.to_crs(common_crs)\n",
    "\n",
    "# Compute the centroids of the basins after reprojection\n",
    "gdf_basins['centroid'] = gdf_basins.geometry.centroid\n",
    "\n",
    "# Ensure gdf_borders is in the same CRS\n",
    "gdf_borders = gdf_borders.to_crs(common_crs)"
   ]
  },
  {
   "cell_type": "code",
   "execution_count": 5,
   "metadata": {},
   "outputs": [],
   "source": [
    "# Merge the basin geometries with NSE values\n",
    "gdf_basins = gdf_basins.merge(result_df[['basin', 'NSE']], left_on='Station_id', right_on='basin', how='left')"
   ]
  },
  {
   "cell_type": "markdown",
   "metadata": {},
   "source": [
    "# Plot results"
   ]
  },
  {
   "cell_type": "code",
   "execution_count": 11,
   "metadata": {},
   "outputs": [],
   "source": [
    "# Create a figure and axis\n",
    "fig, ax = plt.subplots(figsize=(12, 10))\n",
    "\n",
    "# Plot the reprojected gdf_borders\n",
    "gdf_borders.plot(ax=ax, facecolor='0.95', edgecolor='0.2', linewidth=0.1)\n",
    "\n",
    "# # Define the colormap based on the metric values\n",
    "# cmap = plt.cm.gnuplot\n",
    "# norm = mcolors.Normalize(vmin=0.0, vmax=1.0)  # Adjust vmax to 1.0\n",
    "## batlow, lajolla, imola, bamako\n",
    "cmap = cm.bamako # choose any colormap from cmcrameri\n",
    "norm = mcolors.Normalize(vmin=0.0, vmax=1.0)  # Adjust vmax to 1.\n",
    "\n",
    "# Plot each basin using centroids\n",
    "gdf_basins.apply(lambda row: ax.plot(row['centroid'].x, row['centroid'].y, 'o',\n",
    "                                     markersize=5, color=cmap(norm(row['NSE']))), axis=1)\n",
    "\n",
    "# Create an axis for the colorbar\n",
    "divider = make_axes_locatable(ax)\n",
    "cax = divider.append_axes(\"right\", size=\"2%\", pad=0.1)\n",
    "\n",
    "# Add colorbar\n",
    "sm = plt.cm.ScalarMappable(cmap=cmap, norm=norm)\n",
    "sm.set_array([])\n",
    "cbar = plt.colorbar(sm, cax=cax)\n",
    "\n",
    "# Add a title\n",
    "nse_less_than_0 = result_df['NSE'][result_df['NSE'] <= 0].count()\n",
    "ax.set_title(f\"NSE results ({len(result_df)} basins | NSE $\\leq 0$: {nse_less_than_0} counts)\")\n",
    "\n",
    "# Add a histogram plot to the right of the colorbar\n",
    "hist_ax = divider.append_axes(\"right\", size=\"10%\", pad=0.6)  # adjust pad as needed\n",
    "\n",
    "hist_values = gdf_basins['NSE'].values\n",
    "n_bins = 20\n",
    "bins = np.linspace(hist_values.min(), hist_values.max(), n_bins + 1)\n",
    "\n",
    "hist_ax.hist(hist_values, bins=bins, orientation='horizontal', color='tab:blue', alpha=0.5)\n",
    "hist_ax.set_yticks([])  # remove y-ticks\n",
    "hist_ax.set_ylim(hist_values.min(), hist_values.max())  # set y-axis limits to match the data range\n",
    "\n",
    "# Adjust the x-ticks\n",
    "xticks = hist_ax.get_xticks()\n",
    "hist_ax.set_xticks(xticks[::3])  # set the x-ticks to every 3rd value\n",
    "hist_ax.set_xlim(0, hist_ax.get_xlim()[1])  # set the right limit to the maximum value\n",
    "\n",
    "# Move the x label to the top and adjust ticks\n",
    "hist_ax.set_xlabel('')\n",
    "hist_ax.xaxis.set_label_position('top')\n",
    "hist_ax.set_xlabel('Frequency', labelpad=10)\n",
    "hist_ax.xaxis.tick_top()\n",
    "hist_ax.tick_params(axis='x', which='both', labeltop=True, labelbottom=False)\n",
    "\n",
    "# Get rid of box lines\n",
    "hist_ax.spines['top'].set_visible(False)\n",
    "hist_ax.spines['right'].set_visible(False)\n",
    "hist_ax.spines['bottom'].set_visible(False)\n",
    "hist_ax.spines['left'].set_visible(False)\n",
    "\n",
    "# Calculate the gap height based on the current ylim\n",
    "gap = 0.04  # Gap between the line and the text label - histogram\n",
    "ylim = hist_ax.get_ylim()\n",
    "gap_height = gap * (ylim[1] - ylim[0])\n",
    "\n",
    "# Add mean and median value plots to the histogram\n",
    "mean_value = np.mean(hist_values)\n",
    "median_value = np.median(hist_values)\n",
    "max_value = max(mean_value, median_value)  # Find the greatest value\n",
    "\n",
    "# Plot mean value\n",
    "if mean_value < max_value:\n",
    "    hist_ax.axhline(mean_value, color='tab:red', linestyle='--', linewidth=2)\n",
    "    hist_ax.text(hist_ax.get_xlim()[1], mean_value - gap_height, f'Mean: {mean_value:.3f}', va='bottom', ha='right', color='tab:red')\n",
    "else:\n",
    "    hist_ax.axhline(mean_value, color='tab:red', linestyle='--', linewidth=2)\n",
    "    hist_ax.text(hist_ax.get_xlim()[1], mean_value + gap_height, f'Mean: {mean_value:.3f}', va='top', ha='right', color='tab:red')\n",
    "\n",
    "# Plot median value\n",
    "if median_value < max_value:\n",
    "    hist_ax.axhline(median_value, color='green', linestyle='--', linewidth=2)\n",
    "    hist_ax.text(hist_ax.get_xlim()[1], median_value - gap_height, f'Median: {median_value:.3f}', va='bottom', ha='right', color='green')\n",
    "else:\n",
    "    hist_ax.axhline(median_value, color='green', linestyle='--', linewidth=2)\n",
    "    hist_ax.text(hist_ax.get_xlim()[1], median_value + gap_height, f'Median: {median_value:.3f}', va='top', ha='right', color='green')\n",
    "\n",
    "# Set chart junk\n",
    "ax.set_xlim([-2.5*1e6, 3.1*1e6])\n",
    "ax.set_ylim([-1.6*1e6, 3.7*1e6])\n",
    "ax.set_xticks([])\n",
    "ax.set_yticks([])\n",
    "ax.spines['top'].set_visible(False)\n",
    "ax.spines['right'].set_visible(False)\n",
    "ax.spines['bottom'].set_visible(False)\n",
    "ax.spines['left'].set_visible(False)\n",
    "\n",
    "# Save the plot\n",
    "plt.savefig(file_dir / 'nse_basins_map.png', dpi=150, bbox_inches='tight')\n",
    "\n",
    "# Show the plot\n",
    "plt.show()"
   ]
  }
 ],
 "metadata": {
  "kernelspec": {
   "display_name": "venv-nh",
   "language": "python",
   "name": "python3"
  },
  "language_info": {
   "codemirror_mode": {
    "name": "ipython",
    "version": 3
   },
   "file_extension": ".py",
   "mimetype": "text/x-python",
   "name": "python",
   "nbconvert_exporter": "python",
   "pygments_lexer": "ipython3",
   "version": "3.8.10"
  }
 },
 "nbformat": 4,
 "nbformat_minor": 2
}
